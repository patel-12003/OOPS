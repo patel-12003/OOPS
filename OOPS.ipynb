{
  "nbformat": 4,
  "nbformat_minor": 0,
  "metadata": {
    "colab": {
      "provenance": []
    },
    "kernelspec": {
      "name": "python3",
      "display_name": "Python 3"
    },
    "language_info": {
      "name": "python"
    }
  },
  "cells": [
    {
      "cell_type": "markdown",
      "source": [
        "## OOPS\n",
        "\n",
        "#Q1 What is Object-Oriented Programming (OOP)?\n",
        "\"\"\"Ans: object-oriented programming is a paradigm that organizes code into \"objects,\" which are instance of classes.\"\"\"\n",
        "\n",
        "#Q2 What is a class in OOP?\n",
        "\"\"\"Ans: classes in oop are blueprint/template for creating an object.\"\"\"\n",
        "\n",
        "#Q3 What is an object in OOP?\n",
        "\"\"\"Ans: An object in oop is instance of class.\"\"\"\n",
        "\n",
        "#Q4 What is the difference between abstraction and encapsulation?\n",
        "\"\"\"\"Ans:: Abstraction is a concept of hiding complex implementation, while encapsulation is a bundling of data and methods of a class.\"\"\"\n",
        "\n",
        "#Q5 What are dunder methods in Python?\n",
        "\"\"\"Ans: dunder methods are the methods defined by built-in classes in python and implementing operator overloading in python.\"\"\"\n",
        "\n",
        "#Q6 Explain the concept of inheritance in OOP.\n",
        "\"\"\"Ans: inheritance refers to process of child receiving the properties of paarent class.\"\"\"\n",
        "\n",
        "#Q7 What is polymorphism in OOP?\n",
        "\"\"\"Ans: polymorphism refers to an object taking several forms depending on the methods or data.\"\"\"\n",
        "\n",
        "#Q8 How is encapsulation achieved in Python?\n",
        "\"\"\"Ans: In Python, encapsulation is achieved by restricting direct access to an object's internal state and providing controlled access through method.\"\"\"\n",
        "\n",
        "#Q9 What is a constructor in Python?\n",
        "\"\"\"Ans: In Python, a constructor is a special method that is automatically called when an object is created.\"\"\"\n",
        "\n",
        "#Q10 What are class and static methods in Python?\n",
        "\"\"\"Ans: In Python, class methods and static methods are special types of methods that belong to the class itself rather than to an instance (object) of the class.\"\"\"\n",
        "\n",
        "#Q11 What is method overloading in Python?\n",
        "\"\"\"Ans: Method overloading refers to the ability to define multiple methods in a class with the same name but with different parameter types or numbers.\"\"\"\n",
        "\n",
        "#Q12  What is method overriding in OOP?\n",
        "\"\"\"Ans: Method overriding is a concept in Object-Oriented Programming (OOP) where a subclass provides a specific implementation of a method that is already defined in its superclass.\"\"\"\n",
        "\n",
        "#Q13 What is a property decorator in Python?\n",
        "\"\"\"Ans:In Python, the property decorator is used to define a getter method that can be accessed like an attribute, but with the logic of a method.\"\"\"\n",
        "\n",
        "#Q14 Why is polymorphism important in OOP?\n",
        "\"\"\"Ans:Polymorphism is one of the key concepts in Object-Oriented Programming (OOP), and it plays an essential role in making OOP more flexible and powerful.\"\"\"\n",
        "\n",
        "#Q15 What is an abstract class in Python?\n",
        "\"\"\"Ans: An abstract class in Python is a class that cannot be instantiated directly. Instead, it serves as a blueprint for other classes.\"\"\"\n",
        "\n",
        "#Q16  What are the advantages of OOP?\n",
        "\"\"\"Ans:There are many advantages of oop such as modularity and code reusability,encapsulation,polymorphism,inheritance,and abstraction.\"\"\"\n",
        "\n",
        "#Q17 What is the difference between a class variable and an instance variable?\n",
        "\"\"\"Ans: In Python, class variables and instance variables are both used to store data in a class, but they differ in terms of how they are used, where they are stored, and how they are shared between instances.\"\"\"\n",
        "\n",
        "#Q18 What is multiple inheritance in Python?\n",
        "\"\"\"Ans: one child class may inherit the property of multiple parent class.\"\"\"\n",
        "\n",
        "#Q19 Explain the purpose of ‘’__str__’ and ‘__repr__’ ‘ methods in Python.\n",
        "\"\"\"Ans:\n",
        "In Python, both the __str__ and __repr__ methods are used to define how an object should be represented as a string. While both are related to string representation, they serve different purposes and are used in different contexts.\"\"\"\n",
        "\n",
        "#Q20 What is the significance of the ‘super()’ function in Python?\n",
        "\"\"\"Ans:The super() function in Python is used to call methods from a parent (or superclass) class from within a child (or subclass) class.\"\"\"\n",
        "\n",
        "#Q21 What is the significance of the __del__ method in Python?\n",
        "\"\"\"Ans: The __del__ method is a destructor that allows you to define custom cleanup behavior for objects before they are destroyed.\"\"\"\n",
        "\n",
        "#Q22 What is the difference between @staticmethod and @classmethod in Python?\n",
        "\"\"\"Ans:\n",
        "In Python, both @staticmethod and @classmethod are decorators used to define methods that are not bound to an instance of the class, but they have different use cases and behaviors.\"\"\"\n",
        "\n",
        "#Q23 How does polymorphism work in Python with inheritance?\n",
        "\"\"\"Ans: In the context of inheritance, polymorphism allows a subclass to provide its own implementation of a method that is already defined in the superclass, while still allowing that method to be called using a reference to the superclass.\"\"\"\n",
        "\n",
        "#Q24 What is method chaining in Python OOP?\n",
        "\"\"\"Ans:\n",
        "Method chaining in Python OOP refers to the practice of calling multiple methods on the same object in a single line of code.\"\"\"\n",
        "\n",
        "#Q25 What is the purpose of the __call__ method in Python?\n",
        "\"\"\"Ans: The __call__ method in Python is a special method that allows an instance of a class to be called like a function.\"\"\"\n"
      ],
      "metadata": {
        "id": "xenDZOTX4dpH"
      }
    },
    {
      "cell_type": "code",
      "execution_count": 1,
      "metadata": {
        "colab": {
          "base_uri": "https://localhost:8080/"
        },
        "id": "K5oHHBQb4bXZ",
        "outputId": "3397778e-ab5c-452f-8071-73067910cd23"
      },
      "outputs": [
        {
          "output_type": "stream",
          "name": "stdout",
          "text": [
            "a generic message\n",
            "Bark!\n"
          ]
        }
      ],
      "source": [
        "# Create a parent class Animal with a method speak() that prints a generic message. Create a child class Dog that overrides the speak() method to print \"Bark!\".\n",
        "class Animal:\n",
        "  def speak(self):\n",
        "    print(\"a generic message\")\n",
        "\n",
        "class Dog(Animal):\n",
        "  def speak(self):\n",
        "    print(\"Bark!\")\n",
        "\n",
        "animal=Animal()\n",
        "dog=Dog()\n",
        "\n",
        "animal.speak()\n",
        "dog.speak()\n"
      ]
    },
    {
      "cell_type": "code",
      "source": [
        "#  Write a program to create an abstract class Shape with a method area(). Derive classes Circle and Rectangle from it and implement the area() method in both.\n",
        "from abc import ABC, abstractmethod\n",
        "import math\n",
        "\n",
        "class shape:\n",
        "  @abstractmethod\n",
        "  def cal_area(self):\n",
        "    pass\n",
        "\n",
        "class rectangle(shape):\n",
        "  def cal_area(self):\n",
        "    return\"len*breadth\"\n",
        "\n",
        "class circle(shape):\n",
        "  def cal_area(self):\n",
        "    return\"pi r**2\"\n",
        "\n",
        "rect=rectangle()\n",
        "cir=circle()\n",
        "\n",
        "rect.cal_area()\n",
        "cir.cal_area()"
      ],
      "metadata": {
        "colab": {
          "base_uri": "https://localhost:8080/",
          "height": 35
        },
        "id": "-MsSSargEVLo",
        "outputId": "6ba8e463-e3eb-410f-b850-179ebd30f97c"
      },
      "execution_count": 11,
      "outputs": [
        {
          "output_type": "execute_result",
          "data": {
            "text/plain": [
              "'pi r**2'"
            ],
            "application/vnd.google.colaboratory.intrinsic+json": {
              "type": "string"
            }
          },
          "metadata": {},
          "execution_count": 11
        }
      ]
    },
    {
      "cell_type": "code",
      "source": [
        "#  Implement a multi-level inheritance scenario where a class Vehicle has an attribute type. Derive a class Car and further derive a class ElectricCar that adds a battery attribute.\n",
        "\n",
        "class Vehicle:\n",
        "    def __init__(self, type):\n",
        "        self.type = type\n",
        "\n",
        "    def display_type(self):\n",
        "        print(f\"This is a {self.type}.\")\n",
        "\n",
        "\n",
        "class Car(Vehicle):\n",
        "    def __init__(self, type, model):\n",
        "        super().__init__(type)\n",
        "        self.model = model\n",
        "\n",
        "    def display_model(self):\n",
        "        print(f\"This car is a {self.model}.\")\n",
        "\n",
        "\n",
        "class ElectricCar(Car):\n",
        "    def __init__(self, type, model, battery):\n",
        "        super().__init__(type, model)\n",
        "        self.battery = battery\n",
        "\n",
        "    def display_battery(self):\n",
        "        print(f\"This electric car has a {self.battery} battery.\")\n",
        "\n",
        "\n",
        "electric_car = ElectricCar(\"Electric Vehicle\", \"Tesla Model 3\", \"75 kWh\")\n",
        "\n",
        "\n",
        "electric_car.display_type()\n",
        "electric_car.display_model()\n",
        "electric_car.display_battery()\n"
      ],
      "metadata": {
        "colab": {
          "base_uri": "https://localhost:8080/"
        },
        "id": "5t5pp8flGkcd",
        "outputId": "3c7aa809-f905-41d9-eb47-168f59a73a15"
      },
      "execution_count": 12,
      "outputs": [
        {
          "output_type": "stream",
          "name": "stdout",
          "text": [
            "This is a Electric Vehicle.\n",
            "This car is a Tesla Model 3.\n",
            "This electric car has a 75 kWh battery.\n"
          ]
        }
      ]
    },
    {
      "cell_type": "code",
      "source": [
        "# Demonstrate polymorphism by creating a base class Bird with a method fly(). Create two derived classes Sparrow and Penguin that override the fly() method.\n",
        "\n",
        "\n",
        "class Bird:\n",
        "    def fly(self):\n",
        "        print(\"This bird can fly.\")\n",
        "\n",
        "\n",
        "class Sparrow(Bird):\n",
        "    def fly(self):\n",
        "        print(\"The sparrow flies high in the sky.\")\n",
        "\n",
        "\n",
        "class Penguin(Bird):\n",
        "    def fly(self):\n",
        "        print(\"The penguin can't fly.\")\n",
        "\n",
        "\n",
        "sparrow = Sparrow()\n",
        "penguin = Penguin()\n",
        "\n",
        "\n",
        "sparrow.fly()\n",
        "penguin.fly()\n"
      ],
      "metadata": {
        "colab": {
          "base_uri": "https://localhost:8080/"
        },
        "id": "NJ6pOtz_IypY",
        "outputId": "a84f7932-35a0-442e-f8f4-eeeb0e9b4ae9"
      },
      "execution_count": 13,
      "outputs": [
        {
          "output_type": "stream",
          "name": "stdout",
          "text": [
            "The sparrow flies high in the sky.\n",
            "The penguin can't fly.\n"
          ]
        }
      ]
    },
    {
      "cell_type": "code",
      "source": [
        "#  Write a program to demonstrate encapsulation by creating a class BankAccount with private attributes balance and methods to deposit, withdraw, and check balance.\n",
        "\n",
        "class BankAccount:\n",
        "    def __init__(self, initial_balance=0):\n",
        "\n",
        "        self.__balance = initial_balance\n",
        "\n",
        "\n",
        "    def deposit(self, amount):\n",
        "        if amount > 0:\n",
        "            self.__balance += amount\n",
        "            print(f\"Deposited: {amount}\")\n",
        "        else:\n",
        "            print(\"Deposit amount must be positive.\")\n",
        "\n",
        "\n",
        "    def withdraw(self, amount):\n",
        "        if amount > 0 and amount <= self.__balance:\n",
        "            self.__balance -= amount\n",
        "            print(f\"Withdrew: {amount}\")\n",
        "        elif amount > self.__balance:\n",
        "            print(\"Insufficient funds.\")\n",
        "        else:\n",
        "            print(\"Withdrawal amount must be positive.\")\n",
        "\n",
        "\n",
        "    def check_balance(self):\n",
        "        print(f\"Current balance: {self.__balance}\")\n",
        "\n",
        "\n",
        "account = BankAccount(10000)\n",
        "\n",
        "\n",
        "account.deposit(1000)\n",
        "account.withdraw(400)\n",
        "account.check_balance()\n",
        "account.withdraw(4000)\n",
        "account.check_balance()\n"
      ],
      "metadata": {
        "colab": {
          "base_uri": "https://localhost:8080/"
        },
        "id": "t5jb4MP-JUni",
        "outputId": "7fcd8835-185c-4aa2-9527-5433bff4e54a"
      },
      "execution_count": 16,
      "outputs": [
        {
          "output_type": "stream",
          "name": "stdout",
          "text": [
            "Deposited: 1000\n",
            "Withdrew: 400\n",
            "Current balance: 10600\n",
            "Withdrew: 4000\n",
            "Current balance: 6600\n"
          ]
        }
      ]
    },
    {
      "cell_type": "code",
      "source": [
        "#  Demonstrate runtime polymorphism using a method play() in a base class Instrument. Derive classes Guitar and Piano that implement their own version of play().\n",
        "\n",
        "\n",
        "class Instrument:\n",
        "    def play(self):\n",
        "        print(\"The instrument is being played.\")\n",
        "\n",
        "\n",
        "class Guitar(Instrument):\n",
        "    def play(self):\n",
        "        print(\"Strumming the guitar.\")\n",
        "\n",
        "\n",
        "class Piano(Instrument):\n",
        "    def play(self):\n",
        "        print(\"Playing the piano.\")\n",
        "\n",
        "\n",
        "def make_instrument_play(instrument):\n",
        "    instrument.play()\n",
        "\n",
        "\n",
        "guitar = Guitar()\n",
        "piano = Piano()\n",
        "\n",
        "\n",
        "make_instrument_play(guitar)\n",
        "make_instrument_play(piano)\n"
      ],
      "metadata": {
        "colab": {
          "base_uri": "https://localhost:8080/"
        },
        "id": "DgeSxpouJ11T",
        "outputId": "36a2a49a-b3e9-42d7-cbd9-06760205afd7"
      },
      "execution_count": 17,
      "outputs": [
        {
          "output_type": "stream",
          "name": "stdout",
          "text": [
            "Strumming the guitar.\n",
            "Playing the piano.\n"
          ]
        }
      ]
    },
    {
      "cell_type": "code",
      "source": [
        "# Create a class MathOperations with a class method add_numbers() to add two numbers and a static method subtract_numbers() to subtract two numbers.\n",
        "\n",
        "class MathOperations:\n",
        "\n",
        "    @classmethod\n",
        "    def add_numbers(cls, a, b):\n",
        "       return a + b\n",
        "\n",
        "    @staticmethod\n",
        "    def subtract_numbers(a, b):\n",
        "        return a - b\n",
        "\n",
        "sum_result = MathOperations.add_numbers(10, 5)\n",
        "print(f\"Sum: {sum_result}\")\n",
        "\n",
        "\n",
        "difference_result = MathOperations.subtract_numbers(10, 5)\n",
        "print(f\"Difference: {difference_result}\")\n"
      ],
      "metadata": {
        "colab": {
          "base_uri": "https://localhost:8080/"
        },
        "id": "hdcHWYA9K8ot",
        "outputId": "5a4bfcdc-0fbc-436f-b6f9-0f9e66345f68"
      },
      "execution_count": 18,
      "outputs": [
        {
          "output_type": "stream",
          "name": "stdout",
          "text": [
            "Sum: 15\n",
            "Difference: 5\n"
          ]
        }
      ]
    },
    {
      "cell_type": "code",
      "source": [
        "#  Implement a class Person with a class method to count the total number of persons created.\n",
        "\n",
        "class Person:\n",
        "\n",
        "    total_persons = 0\n",
        "\n",
        "    def __init__(self, name, age):\n",
        "        self.name = name\n",
        "        self.age = age\n",
        "\n",
        "        Person.total_persons += 1\n",
        "\n",
        "    @classmethod\n",
        "    def get_total_persons(cls):\n",
        "        \"\"\"Class method to return the total number of persons created\"\"\"\n",
        "        return cls.total_persons\n",
        "\n",
        "\n",
        "person1 = Person(\"het\", 20)\n",
        "person2 = Person(\"patel\", 22)\n",
        "person3 = Person(\"alpeshbhai\",40)\n",
        "\n",
        "\n",
        "print(f\"Total persons created: {Person.get_total_persons()}\")\n"
      ],
      "metadata": {
        "colab": {
          "base_uri": "https://localhost:8080/"
        },
        "id": "L7iZNCrpLvLh",
        "outputId": "0f871f08-9452-4f51-f5b7-b67c87be7157"
      },
      "execution_count": 25,
      "outputs": [
        {
          "output_type": "stream",
          "name": "stdout",
          "text": [
            "Total persons created: 3\n"
          ]
        }
      ]
    },
    {
      "cell_type": "code",
      "source": [
        "#  Write a class Fraction with attributes numerator and denominator. Override the str method to display the fraction as \"numerator/denominator\".\n",
        "class Fraction:\n",
        "    def __init__(self, numerator, denominator):\n",
        "        self.numerator = numerator\n",
        "        self.denominator = denominator\n",
        "\n",
        "    def __str__(self):\n",
        "        return f\"{self.numerator}/{self.denominator}\"\n",
        "\n",
        "\n",
        "fraction1 = Fraction(3, 4)\n",
        "fraction2 = Fraction(5, 6)\n",
        "\n",
        "\n",
        "print(fraction1)\n",
        "print(fraction2)\n"
      ],
      "metadata": {
        "colab": {
          "base_uri": "https://localhost:8080/"
        },
        "id": "I0QX9tWEMVaJ",
        "outputId": "404496f1-2880-45db-eb47-d5ae4a9eb3cf"
      },
      "execution_count": 26,
      "outputs": [
        {
          "output_type": "stream",
          "name": "stdout",
          "text": [
            "3/4\n",
            "5/6\n"
          ]
        }
      ]
    },
    {
      "cell_type": "code",
      "source": [
        "#  Demonstrate operator overloading by creating a class Vector and overriding the add method to add two vectors.\n",
        "\n",
        "class Vector:\n",
        "    def __init__(self, x, y):\n",
        "        self.x = x\n",
        "        self.y = y\n",
        "\n",
        "\n",
        "    def __add__(self, other):\n",
        "\n",
        "        return Vector(self.x + other.x, self.y + other.y)\n",
        "\n",
        "\n",
        "    def __str__(self):\n",
        "        return f\"({self.x}, {self.y})\"\n",
        "\n",
        "\n",
        "vector1 = Vector(3, 4)\n",
        "vector2 = Vector(1, 2)\n",
        "\n",
        "\n",
        "result_vector = vector1 + vector2\n",
        "\n",
        "\n",
        "print(f\"Vector 1: {vector1}\")\n",
        "print(f\"Vector 2: {vector2}\")\n",
        "print(f\"Result of addition: {result_vector}\")\n"
      ],
      "metadata": {
        "colab": {
          "base_uri": "https://localhost:8080/"
        },
        "id": "2Dkb0a0cNth3",
        "outputId": "04df78d6-c9cb-437a-d858-ca5b222aee85"
      },
      "execution_count": 27,
      "outputs": [
        {
          "output_type": "stream",
          "name": "stdout",
          "text": [
            "Vector 1: (3, 4)\n",
            "Vector 2: (1, 2)\n",
            "Result of addition: (4, 6)\n"
          ]
        }
      ]
    },
    {
      "cell_type": "code",
      "source": [
        "# Create a class Person with attributes name and age. Add a method greet() that prints \"Hello, my name is {name} and I am {age} years old.\n",
        "\n",
        "class Person:\n",
        "    def __init__(self, name, age):\n",
        "        self.name = name\n",
        "        self.age = age\n",
        "\n",
        "    def greet(self):\n",
        "        print(f\"Hello, my name is {self.name} and I am {self.age} years old.\")\n",
        "\n",
        "\n",
        "person1 = Person(\"Het\", 22)\n",
        "\n",
        "\n",
        "person1.greet()\n"
      ],
      "metadata": {
        "colab": {
          "base_uri": "https://localhost:8080/"
        },
        "id": "qj5g53QhOZNj",
        "outputId": "3ee2a063-72db-42f6-f9e4-1fecd7b72e3e"
      },
      "execution_count": 28,
      "outputs": [
        {
          "output_type": "stream",
          "name": "stdout",
          "text": [
            "Hello, my name is Het and I am 22 years old.\n"
          ]
        }
      ]
    },
    {
      "cell_type": "code",
      "source": [
        "#  Implement a class Student with attributes name and grades. Create a method average_grade() to compute the average of the grades\n",
        "\n",
        "class Student:\n",
        "    def __init__(self, name, grades):\n",
        "        self.name = name\n",
        "        self.grades = grades\n",
        "\n",
        "    def average_grade(self):\n",
        "\n",
        "        if len(self.grades) == 0:\n",
        "            return 0\n",
        "        return sum(self.grades) / len(self.grades)\n",
        "\n",
        "\n",
        "student1 = Student(\"Het\", [90, 85, 88, 92])\n",
        "\n",
        "\n",
        "print(f\"{student1.name}'s average grade: {student1.average_grade()}\")\n"
      ],
      "metadata": {
        "colab": {
          "base_uri": "https://localhost:8080/"
        },
        "id": "WFl9UnlbPFzU",
        "outputId": "c15c267c-c1e8-4ba9-ecc2-b6223922b1f3"
      },
      "execution_count": 29,
      "outputs": [
        {
          "output_type": "stream",
          "name": "stdout",
          "text": [
            "Het's average grade: 88.75\n"
          ]
        }
      ]
    },
    {
      "cell_type": "code",
      "source": [
        "# Create a class Rectangle with methods set_dimensions() to set the dimensions and area() to calculate the  area.\n",
        "\n",
        "class Rectangle:\n",
        "    def __init__(self):\n",
        "        self.length = 0\n",
        "        self.width = 0\n",
        "\n",
        "    def set_dimensions(self, length, width):\n",
        "\n",
        "        self.length = length\n",
        "        self.width = width\n",
        "\n",
        "    def area(self):\n",
        "\n",
        "        return self.length * self.width\n",
        "\n",
        "\n",
        "rect = Rectangle()\n",
        "\n",
        "\n",
        "rect.set_dimensions(5, 3)\n",
        "\n",
        "\n",
        "print(f\"Area of the rectangle: {rect.area()}\")\n"
      ],
      "metadata": {
        "colab": {
          "base_uri": "https://localhost:8080/"
        },
        "id": "kBaCZr_nP664",
        "outputId": "084ffd29-e28c-4614-822c-1bba014ca5c1"
      },
      "execution_count": 30,
      "outputs": [
        {
          "output_type": "stream",
          "name": "stdout",
          "text": [
            "Area of the rectangle: 15\n"
          ]
        }
      ]
    },
    {
      "cell_type": "code",
      "source": [
        "#  Create a class Employee with a method calculate_salary() that computes the salary based on hours worked and hourly rate. Create a derived class Manager that adds a bonus to the salary\n",
        "\n",
        "class Employee:\n",
        "    def __init__(self, hours_worked, hourly_rate):\n",
        "        self.hours_worked = hours_worked\n",
        "        self.hourly_rate = hourly_rate\n",
        "\n",
        "    def calculate_salary(self):\n",
        "\n",
        "        return self.hours_worked * self.hourly_rate\n",
        "\n",
        "\n",
        "class Manager(Employee):\n",
        "    def __init__(self, hours_worked, hourly_rate, bonus):\n",
        "\n",
        "        super().__init__(hours_worked, hourly_rate)\n",
        "        self.bonus = bonus\n",
        "\n",
        "    def calculate_salary(self):\n",
        "\n",
        "        base_salary = super().calculate_salary()\n",
        "        return base_salary + self.bonus\n",
        "\n",
        "\n",
        "\n",
        "employee = Employee(40, 20)\n",
        "\n",
        "\n",
        "manager = Manager(40, 30, 500)\n",
        "\n",
        "\n",
        "print(f\"Employee salary: ${employee.calculate_salary()}\")\n",
        "print(f\"Manager salary: ${manager.calculate_salary()}\")\n"
      ],
      "metadata": {
        "colab": {
          "base_uri": "https://localhost:8080/"
        },
        "id": "7wN-6r6GQlrb",
        "outputId": "ff99c603-76c6-4597-a5d0-aa45f18fe746"
      },
      "execution_count": 31,
      "outputs": [
        {
          "output_type": "stream",
          "name": "stdout",
          "text": [
            "Employee salary: $800\n",
            "Manager salary: $1700\n"
          ]
        }
      ]
    },
    {
      "cell_type": "code",
      "source": [],
      "metadata": {
        "id": "__zJpzccRTmo"
      },
      "execution_count": null,
      "outputs": []
    }
  ]
}